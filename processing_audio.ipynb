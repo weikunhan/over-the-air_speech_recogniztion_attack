{
 "cells": [
  {
   "cell_type": "code",
   "execution_count": 1,
   "metadata": {
    "collapsed": true
   },
   "outputs": [],
   "source": [
    "%matplotlib inline"
   ]
  },
  {
   "cell_type": "markdown",
   "metadata": {},
   "source": [
    "# Convert audio into .wav file"
   ]
  },
  {
   "cell_type": "markdown",
   "metadata": {},
   "source": [
    "This module can use for converting audio file in original dataset. After you get the original audio, you can generate more noise audio if you like. The noise audio dataset create way is showed on our website. We provide some exmaple noise audio in github. And the our whole noise audio in share on the google duc.\n",
    "Contect me if you have any quesiton (weikunhan@g.ucla.edu)"
   ]
  },
  {
   "cell_type": "code",
   "execution_count": null,
   "metadata": {
    "collapsed": true
   },
   "outputs": [],
   "source": [
    "# -*- coding: utf-8 -*-\n",
    "\"\"\" Convert audio into .wav file\n",
    "\n",
    "This module can use for converting audio file in original dataset. After you \n",
    "get the original audio, you can generate more noise audio if you like. The noise \n",
    "audio dataset create way is showed on our website. We provide some exmaple noise \n",
    "audio in github. And the our whole noise audio in share on the google duc. \n",
    "Contect me if you have any quesitons \n",
    "\n",
    "################################################################################\n",
    "# Author: Weikun Han <weikunhan@gmail.com>\n",
    "# Crate Date: 02/20/2018        \n",
    "# Update:\n",
    "# Reference: https://github.com/jhetherly/EnglishSpeechUpsampler\n",
    "################################################################################\n",
    "\"\"\"\n",
    "\n",
    "import os\n",
    "import sox\n",
    "\n",
    "# Please modify input path  to locate you file\n",
    "DATASETS_ROOT_DIR = './datasets'\n",
    "OUTPUT_DIR = os.path.join(DATASETS_ROOT_DIR, 'TEDLIUM')\n",
    "INPUT_DIR = os.path.join(DATASETS_ROOT_DIR, 'TEDLIUM_release2/{}/sph')\n",
    "\n",
    "# Please modify setting for splice duration\n",
    "start_time = 30\n",
    "end_time = -30\n",
    "\n",
    "# List sub-folder for datasets\n",
    "input_folder = ['dev', 'test', 'train']\n",
    "\n",
    "# Check location to save datasets\n",
    "if not os.path.exists(OUTPUT_DIR):\n",
    "    os.makedirs(OUTPUT_DIR)\n",
    "    \n",
    "print('Will send .wav audio to {}'.format(OUTPUT_DIR))\n",
    "\n",
    "# Loop over all files within the TEDLIUM directory first \n",
    "for directory in input_folder:\n",
    "    input_tmp_path = INPUT_DIR.format(directory)\n",
    "    \n",
    "    # Loop over all files within the input directory\n",
    "    for filename in os.listdir(input_dir_name):\n",
    "        input_filename = os.path.join(input_tmp_path, filename)\n",
    "\n",
    "        # Check if path is an existing regular file\n",
    "        if not os.path.isfile(input_filename):\n",
    "            continue\n",
    "        filename_base = os.path.splitext(filename)[0]\n",
    "\n",
    "        # This is the total audio track duration less the\n",
    "        # start and end times\n",
    "        duration = sox.file_info.duration(input_filename) - (start_time - end_time)\n",
    "\n",
    "         # Create final file format\n",
    "        filename_template = '{}.wav'\n",
    "\n",
    "        print('On file {}'.format(filename_base))\n",
    "\n",
    "        # create trasnformer\n",
    "        splice = sox.Transformer()\n",
    "        output_filename = file_name_template.format(filename_base)\n",
    "        output_filename = os.path.join(OUTPUT_DIR, output_filename)\n",
    "\n",
    "        # TODO: splice.trim(start_time, start_time + duration)\n",
    "        splice.trim(start_time, duration) \n",
    "        splice.build(input_filename, output_filename)"
   ]
  }
 ],
 "metadata": {
  "kernelspec": {
   "display_name": "Python 3",
   "language": "python",
   "name": "python3"
  },
  "language_info": {
   "codemirror_mode": {
    "name": "ipython",
    "version": 3
   },
   "file_extension": ".py",
   "mimetype": "text/x-python",
   "name": "python",
   "nbconvert_exporter": "python",
   "pygments_lexer": "ipython3",
   "version": "3.6.3"
  }
 },
 "nbformat": 4,
 "nbformat_minor": 2
}
