{
 "cells": [
  {
   "cell_type": "markdown",
   "metadata": {
    "collapsed": true
   },
   "source": [
    "# Split long audio into special duration"
   ]
  },
  {
   "cell_type": "markdown",
   "metadata": {},
   "source": [
    "This module can use for processing long audio split. You need modify the splice_\n",
    "duration that you want for how long each audio clip, and modify output directory\n",
    "you want and input directory you have.\n"
   ]
  },
  {
   "cell_type": "code",
   "execution_count": 1,
   "metadata": {},
   "outputs": [
    {
     "name": "stderr",
     "output_type": "stream",
     "text": [
      "  5%|▌         | 5/100 [00:00<00:02, 46.11it/s]"
     ]
    },
    {
     "name": "stdout",
     "output_type": "stream",
     "text": [
      "Will send spliced audio to ./datasets/TEDLIUM_5S\n",
      "Will send noise spliced audio to ./datasets/TEDLIUM_noise_sample_5S\n",
      "On file 911Mothers_2010W\n"
     ]
    },
    {
     "name": "stderr",
     "output_type": "stream",
     "text": [
      "100%|██████████| 100/100 [00:02<00:00, 45.31it/s]\n",
      "  2%|▏         | 5/204 [00:00<00:04, 45.54it/s]"
     ]
    },
    {
     "name": "stdout",
     "output_type": "stream",
     "text": [
      "On file AbrahamVerghese_2011G\n"
     ]
    },
    {
     "name": "stderr",
     "output_type": "stream",
     "text": [
      "100%|██████████| 204/204 [00:04<00:00, 47.63it/s]\n",
      "  7%|▋         | 5/76 [00:00<00:01, 41.80it/s]"
     ]
    },
    {
     "name": "stdout",
     "output_type": "stream",
     "text": [
      "On file AaronOConnell_2011\n"
     ]
    },
    {
     "name": "stderr",
     "output_type": "stream",
     "text": [
      "100%|██████████| 76/76 [00:01<00:00, 48.55it/s]\n",
      "  3%|▎         | 5/173 [00:00<00:03, 47.13it/s]"
     ]
    },
    {
     "name": "stdout",
     "output_type": "stream",
     "text": [
      "On file AaronHuey_2010X\n"
     ]
    },
    {
     "name": "stderr",
     "output_type": "stream",
     "text": [
      "100%|██████████| 173/173 [00:03<00:00, 45.29it/s]\n",
      "  8%|▊         | 5/60 [00:00<00:01, 46.02it/s]"
     ]
    },
    {
     "name": "stdout",
     "output_type": "stream",
     "text": [
      "On file AbigailWashburn_2012U\n"
     ]
    },
    {
     "name": "stderr",
     "output_type": "stream",
     "text": [
      "100%|██████████| 60/60 [00:01<00:00, 49.00it/s]\n",
      "  2%|▏         | 5/201 [00:00<00:04, 47.63it/s]"
     ]
    },
    {
     "name": "stdout",
     "output_type": "stream",
     "text": [
      "On file AaronKoblin_2011\n"
     ]
    },
    {
     "name": "stderr",
     "output_type": "stream",
     "text": [
      "100%|██████████| 201/201 [00:04<00:00, 46.03it/s]\n",
      "  7%|▋         | 5/76 [00:00<00:01, 45.25it/s]"
     ]
    },
    {
     "name": "stdout",
     "output_type": "stream",
     "text": [
      "On file AaronOConnell_2011_noise_sample\n"
     ]
    },
    {
     "name": "stderr",
     "output_type": "stream",
     "text": [
      "100%|██████████| 76/76 [00:02<00:00, 37.91it/s]\n",
      "  2%|▏         | 5/204 [00:00<00:04, 48.41it/s]"
     ]
    },
    {
     "name": "stdout",
     "output_type": "stream",
     "text": [
      "On file AbrahamVerghese_2011G_noise_sample\n"
     ]
    },
    {
     "name": "stderr",
     "output_type": "stream",
     "text": [
      "100%|██████████| 204/204 [00:05<00:00, 37.45it/s]\n",
      "  7%|▋         | 4/60 [00:00<00:01, 39.96it/s]"
     ]
    },
    {
     "name": "stdout",
     "output_type": "stream",
     "text": [
      "On file AbigailWashburn_2012U_noise_sample\n"
     ]
    },
    {
     "name": "stderr",
     "output_type": "stream",
     "text": [
      "100%|██████████| 60/60 [00:01<00:00, 34.30it/s]\n",
      "  3%|▎         | 5/173 [00:00<00:03, 47.74it/s]"
     ]
    },
    {
     "name": "stdout",
     "output_type": "stream",
     "text": [
      "On file AaronHuey_2010X_noise_sample\n"
     ]
    },
    {
     "name": "stderr",
     "output_type": "stream",
     "text": [
      "100%|██████████| 173/173 [00:05<00:00, 30.72it/s]\n",
      "  0%|          | 1/201 [00:00<00:21,  9.37it/s]"
     ]
    },
    {
     "name": "stdout",
     "output_type": "stream",
     "text": [
      "On file AaronKoblin_2011_noise_sample\n"
     ]
    },
    {
     "name": "stderr",
     "output_type": "stream",
     "text": [
      "100%|██████████| 201/201 [00:04<00:00, 43.32it/s]\n",
      "  5%|▌         | 5/100 [00:00<00:01, 48.03it/s]"
     ]
    },
    {
     "name": "stdout",
     "output_type": "stream",
     "text": [
      "On file 911Mothers_2010W_noise_sample\n"
     ]
    },
    {
     "name": "stderr",
     "output_type": "stream",
     "text": [
      "100%|██████████| 100/100 [00:02<00:00, 41.67it/s]\n"
     ]
    }
   ],
   "source": [
    "# -*- coding: utf-8 -*-\n",
    "\"\"\" Split long audio into special duration\n",
    "\n",
    "This module can use for processing long audio split. You need modify the splice_\n",
    "duration that you want for how long each audio clip, and modify output directory\n",
    "you want and input directory you have.\n",
    "\n",
    "################################################################################\n",
    "# Author: Weikun Han <weikunhan@gmail.com>\n",
    "# Crate Date: 02/20/2018        \n",
    "# Update:\n",
    "# Reference: https://github.com/jhetherly/EnglishSpeechUpsampler\n",
    "################################################################################\n",
    "\"\"\"\n",
    "\n",
    "import os\n",
    "import tqdm\n",
    "import sox\n",
    "\n",
    "# Please modify input path  to locate you file\n",
    "DATASETS_ROOT_DIR = './datasets'\n",
    "OUTPUT_DIR = os.path.join(DATASETS_ROOT_DIR, 'TEDLIUM_5S')\n",
    "NOISE_OUTPUT_DIR = os.path.join(DATASETS_ROOT_DIR, \n",
    "                               'TEDLIUM_noise_sample_5S')\n",
    "\n",
    "# Please modify setting for splice duration\n",
    "splice_duration = 5\n",
    "\n",
    "# List sub-folder for datasets\n",
    "input_folder = ['TEDLIUM', 'TEDLIUM_noise_sample']\n",
    "\n",
    "# Check location to save datasets\n",
    "if not os.path.exists(OUTPUT_DIR):\n",
    "    os.makedirs(OUTPUT_DIR)\n",
    "if not os.path.exists(NOISE_OUTPUT_DIR):\n",
    "    os.makedirs(NOISE_OUTPUT_DIR)\n",
    "\n",
    "print('Will send spliced audio to {}'.format(OUTPUT_DIR))\n",
    "print('Will send noise spliced audio to {}'.format(NOISE_OUTPUT_DIR))\n",
    "\n",
    "# Loop over all files within the TEDLIUM directory first and \n",
    "# loop over all files within the TEDLIUM_noise_sample directory second\n",
    "for directory in input_folder:\n",
    "    input_tmp_path = os.path.join(DATASETS_ROOT_DIR, directory)\n",
    "    \n",
    "    if directory is 'TEDLIUM':\n",
    "        output_tmp_path = OUTPUT_DIR\n",
    "    elif directory is 'TEDLIUM_noise_sample':\n",
    "        output_tmp_path = NOISE_OUTPUT_DIR\n",
    "    \n",
    "    for filename in os.listdir(input_tmp_path):\n",
    "        input_filename = os.path.join(input_tmp_path, filename)\n",
    "\n",
    "        # Check if path is an existing regular file\n",
    "        if not os.path.isfile(input_filename):\n",
    "            continue\n",
    "        \n",
    "        filename_base = os.path.splitext(filename)[0]\n",
    "\n",
    "        # This is the total audio track duration\n",
    "        duration = sox.file_info.duration(input_filename)\n",
    "\n",
    "        # Computer number of iterations for splicing\n",
    "        n_iterations = int(duration / splice_duration)\n",
    "\n",
    "        # Computer number of digits need for name the new file\n",
    "        digits_number = len(str(int(duration)))\n",
    "\n",
    "        # Create number format depends on number digits\n",
    "        format_number = '{{:0{}d}}'.format(digits_number)\n",
    "\n",
    "        # Create final file format\n",
    "        filename_template = '{{}}_{}-{}.wav'.format(format_number, format_number)\n",
    "\n",
    "        print('On file {}'.format(filename_base))\n",
    "\n",
    "        for i in tqdm.trange(n_iterations):\n",
    "\n",
    "            # create trasnformer\n",
    "            splice = sox.Transformer()\n",
    "            begin = int(i * splice_duration)\n",
    "            end = int(begin + splice_duration)\n",
    "            output_filename = filename_template.format(filename_base,\n",
    "                                                       begin, \n",
    "                                                       end)\n",
    "            output_filename = os.path.join(output_tmp_path, output_filename)\n",
    "            splice.trim(begin, end)\n",
    "            splice.build(input_filename, output_filename)"
   ]
  }
 ],
 "metadata": {
  "kernelspec": {
   "display_name": "Python 3",
   "language": "python",
   "name": "python3"
  },
  "language_info": {
   "codemirror_mode": {
    "name": "ipython",
    "version": 3
   },
   "file_extension": ".py",
   "mimetype": "text/x-python",
   "name": "python",
   "nbconvert_exporter": "python",
   "pygments_lexer": "ipython3",
   "version": "3.6.5"
  }
 },
 "nbformat": 4,
 "nbformat_minor": 2
}
