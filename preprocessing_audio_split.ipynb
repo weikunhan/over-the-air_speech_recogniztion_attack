{
 "cells": [
  {
   "cell_type": "markdown",
   "metadata": {
    "collapsed": true
   },
   "source": [
    "# Split long audio into special duration"
   ]
  },
  {
   "cell_type": "markdown",
   "metadata": {},
   "source": [
    "This module can use for processing long audio split. You need modify the splice_\n",
    "duration that you want for how long each audio clip, and modify output directory\n",
    "you want and input directory you have.\n"
   ]
  },
  {
   "cell_type": "code",
   "execution_count": 1,
   "metadata": {},
   "outputs": [
    {
     "name": "stderr",
     "output_type": "stream",
     "text": [
      "SoX could not be found!\n",
      "\n",
      "    If you do not have SoX, proceed here:\n",
      "     - - - http://sox.sourceforge.net/ - - -\n",
      "\n",
      "    If you do (or think that you should) have SoX, double-check your\n",
      "    path variables.\n",
      "    \n",
      "This install of SoX cannot process .wav files.\n"
     ]
    },
    {
     "name": "stdout",
     "output_type": "stream",
     "text": [
      "Will send spliced audio to ./datasets/TEDLIUM_5S\n",
      "Will send noise spliced audio to ./datasets/TEDLIUM_noise_sample_5S\n"
     ]
    },
    {
     "ename": "SoxiError",
     "evalue": "Soxi failed with exit code 127",
     "output_type": "error",
     "traceback": [
      "\u001b[0;31m---------------------------------------------------------------------------\u001b[0m",
      "\u001b[0;31mCalledProcessError\u001b[0m                        Traceback (most recent call last)",
      "\u001b[0;32m~/anaconda3/envs/over-the-air_SRA/lib/python3.6/site-packages/sox/core.py\u001b[0m in \u001b[0;36msoxi\u001b[0;34m(filepath, argument)\u001b[0m\n\u001b[1;32m    127\u001b[0m             \u001b[0;34m\" \"\u001b[0m\u001b[0;34m.\u001b[0m\u001b[0mjoin\u001b[0m\u001b[0;34m(\u001b[0m\u001b[0margs\u001b[0m\u001b[0;34m)\u001b[0m\u001b[0;34m,\u001b[0m\u001b[0;34m\u001b[0m\u001b[0m\n\u001b[0;32m--> 128\u001b[0;31m             \u001b[0mshell\u001b[0m\u001b[0;34m=\u001b[0m\u001b[0;32mTrue\u001b[0m\u001b[0;34m,\u001b[0m \u001b[0mstderr\u001b[0m\u001b[0;34m=\u001b[0m\u001b[0msubprocess\u001b[0m\u001b[0;34m.\u001b[0m\u001b[0mPIPE\u001b[0m\u001b[0;34m\u001b[0m\u001b[0m\n\u001b[0m\u001b[1;32m    129\u001b[0m         )\n",
      "\u001b[0;32m~/anaconda3/envs/over-the-air_SRA/lib/python3.6/subprocess.py\u001b[0m in \u001b[0;36mcheck_output\u001b[0;34m(timeout, *popenargs, **kwargs)\u001b[0m\n\u001b[1;32m    335\u001b[0m     return run(*popenargs, stdout=PIPE, timeout=timeout, check=True,\n\u001b[0;32m--> 336\u001b[0;31m                **kwargs).stdout\n\u001b[0m\u001b[1;32m    337\u001b[0m \u001b[0;34m\u001b[0m\u001b[0m\n",
      "\u001b[0;32m~/anaconda3/envs/over-the-air_SRA/lib/python3.6/subprocess.py\u001b[0m in \u001b[0;36mrun\u001b[0;34m(input, timeout, check, *popenargs, **kwargs)\u001b[0m\n\u001b[1;32m    417\u001b[0m             raise CalledProcessError(retcode, process.args,\n\u001b[0;32m--> 418\u001b[0;31m                                      output=stdout, stderr=stderr)\n\u001b[0m\u001b[1;32m    419\u001b[0m     \u001b[0;32mreturn\u001b[0m \u001b[0mCompletedProcess\u001b[0m\u001b[0;34m(\u001b[0m\u001b[0mprocess\u001b[0m\u001b[0;34m.\u001b[0m\u001b[0margs\u001b[0m\u001b[0;34m,\u001b[0m \u001b[0mretcode\u001b[0m\u001b[0;34m,\u001b[0m \u001b[0mstdout\u001b[0m\u001b[0;34m,\u001b[0m \u001b[0mstderr\u001b[0m\u001b[0;34m)\u001b[0m\u001b[0;34m\u001b[0m\u001b[0m\n",
      "\u001b[0;31mCalledProcessError\u001b[0m: Command 'soxi -D ./datasets/TEDLIUM/911Mothers_2010W.wav' returned non-zero exit status 127.",
      "\nDuring handling of the above exception, another exception occurred:\n",
      "\u001b[0;31mSoxiError\u001b[0m                                 Traceback (most recent call last)",
      "\u001b[0;32m<ipython-input-1-3773e692f6ab>\u001b[0m in \u001b[0;36m<module>\u001b[0;34m()\u001b[0m\n\u001b[1;32m     58\u001b[0m \u001b[0;34m\u001b[0m\u001b[0m\n\u001b[1;32m     59\u001b[0m         \u001b[0;31m# This is the total audio track duration\u001b[0m\u001b[0;34m\u001b[0m\u001b[0;34m\u001b[0m\u001b[0m\n\u001b[0;32m---> 60\u001b[0;31m         \u001b[0mduration\u001b[0m \u001b[0;34m=\u001b[0m \u001b[0msox\u001b[0m\u001b[0;34m.\u001b[0m\u001b[0mfile_info\u001b[0m\u001b[0;34m.\u001b[0m\u001b[0mduration\u001b[0m\u001b[0;34m(\u001b[0m\u001b[0minput_filename\u001b[0m\u001b[0;34m)\u001b[0m\u001b[0;34m\u001b[0m\u001b[0m\n\u001b[0m\u001b[1;32m     61\u001b[0m \u001b[0;34m\u001b[0m\u001b[0m\n\u001b[1;32m     62\u001b[0m         \u001b[0;31m# Computer number of iterations for splicing\u001b[0m\u001b[0;34m\u001b[0m\u001b[0;34m\u001b[0m\u001b[0m\n",
      "\u001b[0;32m~/anaconda3/envs/over-the-air_SRA/lib/python3.6/site-packages/sox/file_info.py\u001b[0m in \u001b[0;36mduration\u001b[0;34m(input_filepath)\u001b[0m\n\u001b[1;32m     88\u001b[0m     '''\n\u001b[1;32m     89\u001b[0m     \u001b[0mvalidate_input_file\u001b[0m\u001b[0;34m(\u001b[0m\u001b[0minput_filepath\u001b[0m\u001b[0;34m)\u001b[0m\u001b[0;34m\u001b[0m\u001b[0m\n\u001b[0;32m---> 90\u001b[0;31m     \u001b[0moutput\u001b[0m \u001b[0;34m=\u001b[0m \u001b[0msoxi\u001b[0m\u001b[0;34m(\u001b[0m\u001b[0minput_filepath\u001b[0m\u001b[0;34m,\u001b[0m \u001b[0;34m'D'\u001b[0m\u001b[0;34m)\u001b[0m\u001b[0;34m\u001b[0m\u001b[0m\n\u001b[0m\u001b[1;32m     91\u001b[0m     \u001b[0;32mif\u001b[0m \u001b[0moutput\u001b[0m \u001b[0;34m==\u001b[0m \u001b[0;34m'0'\u001b[0m\u001b[0;34m:\u001b[0m\u001b[0;34m\u001b[0m\u001b[0m\n\u001b[1;32m     92\u001b[0m         \u001b[0mlogger\u001b[0m\u001b[0;34m.\u001b[0m\u001b[0mwarning\u001b[0m\u001b[0;34m(\u001b[0m\u001b[0;34m\"Duration unavailable for %s\"\u001b[0m\u001b[0;34m,\u001b[0m \u001b[0minput_filepath\u001b[0m\u001b[0;34m)\u001b[0m\u001b[0;34m\u001b[0m\u001b[0m\n",
      "\u001b[0;32m~/anaconda3/envs/over-the-air_SRA/lib/python3.6/site-packages/sox/core.py\u001b[0m in \u001b[0;36msoxi\u001b[0;34m(filepath, argument)\u001b[0m\n\u001b[1;32m    130\u001b[0m     \u001b[0;32mexcept\u001b[0m \u001b[0mCalledProcessError\u001b[0m \u001b[0;32mas\u001b[0m \u001b[0mcpe\u001b[0m\u001b[0;34m:\u001b[0m\u001b[0;34m\u001b[0m\u001b[0m\n\u001b[1;32m    131\u001b[0m         \u001b[0mlogger\u001b[0m\u001b[0;34m.\u001b[0m\u001b[0minfo\u001b[0m\u001b[0;34m(\u001b[0m\u001b[0;34m\"Soxi error message: {}\"\u001b[0m\u001b[0;34m.\u001b[0m\u001b[0mformat\u001b[0m\u001b[0;34m(\u001b[0m\u001b[0mcpe\u001b[0m\u001b[0;34m.\u001b[0m\u001b[0moutput\u001b[0m\u001b[0;34m)\u001b[0m\u001b[0;34m)\u001b[0m\u001b[0;34m\u001b[0m\u001b[0m\n\u001b[0;32m--> 132\u001b[0;31m         \u001b[0;32mraise\u001b[0m \u001b[0mSoxiError\u001b[0m\u001b[0;34m(\u001b[0m\u001b[0;34m\"Soxi failed with exit code {}\"\u001b[0m\u001b[0;34m.\u001b[0m\u001b[0mformat\u001b[0m\u001b[0;34m(\u001b[0m\u001b[0mcpe\u001b[0m\u001b[0;34m.\u001b[0m\u001b[0mreturncode\u001b[0m\u001b[0;34m)\u001b[0m\u001b[0;34m)\u001b[0m\u001b[0;34m\u001b[0m\u001b[0m\n\u001b[0m\u001b[1;32m    133\u001b[0m \u001b[0;34m\u001b[0m\u001b[0m\n\u001b[1;32m    134\u001b[0m     \u001b[0mshell_output\u001b[0m \u001b[0;34m=\u001b[0m \u001b[0mshell_output\u001b[0m\u001b[0;34m.\u001b[0m\u001b[0mdecode\u001b[0m\u001b[0;34m(\u001b[0m\u001b[0;34m\"utf-8\"\u001b[0m\u001b[0;34m)\u001b[0m\u001b[0;34m\u001b[0m\u001b[0m\n",
      "\u001b[0;31mSoxiError\u001b[0m: Soxi failed with exit code 127"
     ]
    }
   ],
   "source": [
    "# -*- coding: utf-8 -*-\n",
    "\"\"\" Split long audio into special duration\n",
    "\n",
    "This module can use for processing long audio split. You need modify the splice_\n",
    "duration that you want for how long each audio clip, and modify output directory\n",
    "you want and input directory you have.\n",
    "\n",
    "################################################################################\n",
    "# Author: Weikun Han <weikunhan@gmail.com>\n",
    "# Crate Date: 02/20/2018        \n",
    "# Update:\n",
    "# Reference: https://github.com/jhetherly/EnglishSpeechUpsampler\n",
    "################################################################################\n",
    "\"\"\"\n",
    "\n",
    "import os\n",
    "import tqdm\n",
    "import sox\n",
    "\n",
    "# Please modify input path  to locate you file\n",
    "DATASETS_ROOT_DIR = './datasets'\n",
    "OUTPUT_DIR = os.path.join(DATASETS_ROOT_DIR, 'TEDLIUM_5S')\n",
    "NOISE_OUTPUT_DIR = os.path.join(DATASETS_ROOT_DIR, \n",
    "                               'TEDLIUM_noise_sample_5S')\n",
    "\n",
    "# Please modify setting for splice duration\n",
    "splice_duration = 5\n",
    "\n",
    "# List sub-folder for datasets\n",
    "input_folder = ['TEDLIUM', 'TEDLIUM_noise_sample']\n",
    "\n",
    "# Check location to save datasets\n",
    "if not os.path.exists(OUTPUT_DIR):\n",
    "    os.makedirs(OUTPUT_DIR)\n",
    "if not os.path.exists(NOISE_OUTPUT_DIR):\n",
    "    os.makedirs(NOISE_OUTPUT_DIR)\n",
    "\n",
    "print('Will send spliced audio to {}'.format(OUTPUT_DIR))\n",
    "print('Will send noise spliced audio to {}'.format(NOISE_OUTPUT_DIR))\n",
    "\n",
    "# Loop over all files within the TEDLIUM directory first and \n",
    "# loop over all files within the TEDLIUM_noise_sample directory second\n",
    "for directory in input_folder:\n",
    "    input_tmp_path = os.path.join(DATASETS_ROOT_DIR, directory)\n",
    "    \n",
    "    if directory is 'TEDLIUM':\n",
    "        output_tmp_path = OUTPUT_DIR\n",
    "    elif directory is 'TEDLIUM_noise_sample':\n",
    "        output_tmp_path = NOISE_OUTPUT_DIR\n",
    "    \n",
    "    for filename in os.listdir(input_tmp_path):\n",
    "        input_filename = os.path.join(input_tmp_path, filename)\n",
    "\n",
    "        # Check if path is an existing regular file\n",
    "        if not os.path.isfile(input_filename):\n",
    "            continue\n",
    "        filename_base = os.path.splitext(filename)[0]\n",
    "\n",
    "        # This is the total audio track duration\n",
    "        duration = sox.file_info.duration(input_filename)\n",
    "\n",
    "        # Computer number of iterations for splicing\n",
    "        n_iterations = int(duration / splice_duration)\n",
    "\n",
    "        # Computer number of digits need for name the new file\n",
    "        digits_number = len(str(int(duration)))\n",
    "\n",
    "        # Create number format depends on number digits\n",
    "        format_number = '{{:0{}d}}'.format(digits_number)\n",
    "\n",
    "        # Create final file format\n",
    "        filename_template = '{{}}_{}-{}.wav'.format(format_number, format_number)\n",
    "\n",
    "        print('On file {}'.format(filename_base))\n",
    "\n",
    "        for i in tqdm.trange(n_iterations):\n",
    "\n",
    "            # create trasnformer\n",
    "            splice = sox.Transformer()\n",
    "            begin = int(i * splice_duration)\n",
    "            end = int(begin + splice_duration)\n",
    "            output_filename = filename_template.format(filename_base,\n",
    "                                                       begin, \n",
    "                                                       end)\n",
    "            output_filename = os.path.join(output_tmp_path, output_filename)\n",
    "            splice.trim(begin, end)\n",
    "            splice.build(input_filename, output_filename)"
   ]
  },
  {
   "cell_type": "code",
   "execution_count": 3,
   "metadata": {},
   "outputs": [
    {
     "ename": "ModuleNotFoundError",
     "evalue": "No module named 'sox'",
     "output_type": "error",
     "traceback": [
      "\u001b[0;31m---------------------------------------------------------------------------\u001b[0m",
      "\u001b[0;31mModuleNotFoundError\u001b[0m                       Traceback (most recent call last)",
      "\u001b[0;32m<ipython-input-3-6e11cbaf5a26>\u001b[0m in \u001b[0;36m<module>\u001b[0;34m()\u001b[0m\n\u001b[1;32m      1\u001b[0m \u001b[0;32mimport\u001b[0m \u001b[0mos\u001b[0m\u001b[0;34m\u001b[0m\u001b[0m\n\u001b[0;32m----> 2\u001b[0;31m \u001b[0;32mimport\u001b[0m \u001b[0msox\u001b[0m\u001b[0;34m\u001b[0m\u001b[0m\n\u001b[0m",
      "\u001b[0;31mModuleNotFoundError\u001b[0m: No module named 'sox'"
     ]
    }
   ],
   "source": [
    "import os\n",
    "import sox"
   ]
  },
  {
   "cell_type": "code",
   "execution_count": null,
   "metadata": {},
   "outputs": [],
   "source": []
  },
  {
   "cell_type": "code",
   "execution_count": null,
   "metadata": {},
   "outputs": [],
   "source": []
  },
  {
   "cell_type": "code",
   "execution_count": null,
   "metadata": {},
   "outputs": [],
   "source": []
  }
 ],
 "metadata": {
  "kernelspec": {
   "display_name": "Python 3",
   "language": "python",
   "name": "python3"
  },
  "language_info": {
   "codemirror_mode": {
    "name": "ipython",
    "version": 3
   },
   "file_extension": ".py",
   "mimetype": "text/x-python",
   "name": "python",
   "nbconvert_exporter": "python",
   "pygments_lexer": "ipython3",
   "version": "3.6.5"
  }
 },
 "nbformat": 4,
 "nbformat_minor": 2
}
