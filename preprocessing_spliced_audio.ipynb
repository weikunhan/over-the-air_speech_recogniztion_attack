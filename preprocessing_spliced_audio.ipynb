{
 "cells": [
  {
   "cell_type": "code",
   "execution_count": 1,
   "metadata": {
    "collapsed": true
   },
   "outputs": [],
   "source": [
    "%matplotlib inline"
   ]
  },
  {
   "cell_type": "markdown",
   "metadata": {
    "collapsed": true
   },
   "source": [
    "# Over- te"
   ]
  },
  {
   "cell_type": "markdown",
   "metadata": {},
   "source": [
    "something need to wirte\n"
   ]
  },
  {
   "cell_type": "code",
   "execution_count": 20,
   "metadata": {},
   "outputs": [
    {
     "ename": "ModuleNotFoundError",
     "evalue": "No module named 'tqdm'",
     "output_type": "error",
     "traceback": [
      "\u001b[0;31m---------------------------------------------------------------------------\u001b[0m",
      "\u001b[0;31mModuleNotFoundError\u001b[0m                       Traceback (most recent call last)",
      "\u001b[0;32m<ipython-input-20-a6db32879231>\u001b[0m in \u001b[0;36m<module>\u001b[0;34m()\u001b[0m\n\u001b[1;32m      8\u001b[0m \u001b[0;32mimport\u001b[0m \u001b[0mos\u001b[0m\u001b[0;34m\u001b[0m\u001b[0m\n\u001b[1;32m      9\u001b[0m \u001b[0;32mimport\u001b[0m \u001b[0mjson\u001b[0m\u001b[0;34m\u001b[0m\u001b[0m\n\u001b[0;32m---> 10\u001b[0;31m \u001b[0;32mimport\u001b[0m \u001b[0mtqdm\u001b[0m\u001b[0;34m\u001b[0m\u001b[0m\n\u001b[0m\u001b[1;32m     11\u001b[0m \u001b[0;32mimport\u001b[0m \u001b[0msox\u001b[0m\u001b[0;34m\u001b[0m\u001b[0m\n\u001b[1;32m     12\u001b[0m \u001b[0;34m\u001b[0m\u001b[0m\n",
      "\u001b[0;31mModuleNotFoundError\u001b[0m: No module named 'tqdm'"
     ]
    }
   ],
   "source": [
    "# -*- coding: utf-8 -*-\n",
    "################################################################################\n",
    "# Author: Weikun Han <weikunhan@gmail.com>\n",
    "# Crate Date: 02/20/2018        \n",
    "# Update:\n",
    "# Reference: https://github.com/jhetherly/EnglishSpeechUpsampler\n",
    "################################################################################\n",
    "import os\n",
    "import json\n",
    "import tqdm\n",
    "import sox\n",
    "\n",
    "# Please modify input path  to locate you file\n",
    "DATASETS_ROOT_DIR = './datasets'\n",
    "INPUT_DIR_PATH = os.path.join(DATASETS_ROOT_DIR,'TEDLIUM')\n",
    "NOISE_INPUT_DIR_PATH= os.path.join(DATASETS_ROOT_DIR,\n",
    "                                   '/TEDLIUM_noise_sample')\n",
    "OUTPUT_DIR_PATH= os.path.join(DATASETS_ROOT_DIR, 'TEDLIUM_10S')\n",
    "NOISE_OUTPUT_DIR_PATH= os.path.join(DATASETS_ROOT_DIR, \n",
    "                                    'TEDLIUM_noise_sample_10S')\n",
    "\n",
    "# Please modify setting for splice duration\n",
    "splice_duration = 5\n",
    "\n",
    "# Check location to save datasets\n",
    "if not os.path.exists(OUTPUT_DIR_PATH):\n",
    "    os.makedirs(OUTPUT_DIR_PATH)\n",
    "if not os.path.exists(NOISE_OUTPUT_DIR_PATH):\n",
    "    os.makedirs(NOISE_OUTPUT_DIR_PATH)\n",
    "\n",
    "print('Will send spliced audio to {}'.format(OUTPUT_DIR_PATH))\n",
    "print('Will send noise spliced audio to {}'.format(NOISE_OUTPUT_DIR_PATH))\n",
    "\n",
    "# Loop over all files within the TEDLIUM directory\n",
    "for filename in os.listdir(INPUT_DIR_PATH):\n",
    "    input_filename = os.path.join(INPUT_DIR_PATH, filename)\n",
    "    \n",
    "    # Check if path is an existing regular file\n",
    "    if not os.path.isfile(input_filename):\n",
    "        continue\n",
    "    filename_base = os.path.splitext(filename)[0]\n",
    "\n",
    "    # This is the total audio track duration\n",
    "    duration = sox.file_info.duration(input_filename)\n",
    "    \n",
    "    # Computer number of iterations for splicing\n",
    "    n_iterations = int(duration / splice_duration)\n",
    "    \n",
    "    # Computer number of digits need for name the new file\n",
    "    num_of_digits = len(str(int(duration)))\n",
    "    \n",
    "    # Create number format depends on number digits\n",
    "    num_format = '{{:0{}d}}'.format(num_of_digits)\n",
    "    \n",
    "    # Create final file format\n",
    "    file_name_template = '{{}}_{}-{}.wav'.format(num_format, num_format)\n",
    "\n",
    "    print('On file {}'.format(filename_base))\n",
    "    \n",
    "    for i in tqdm.trange(n_iterations):\n",
    "            \n",
    "        # create trasnformer\n",
    "        splice = sox.Transformer()\n",
    "        begin = int(i*splice_duration)\n",
    "        end = int(begin + splice_duration)\n",
    "        output_filename = file_name_template.format(filename_base,\n",
    "                                                    begin, \n",
    "                                                    end)\n",
    "        output_filename = os.path.join(OUTPUT_DIR_PATH, output_filename)\n",
    "        splice.trim(begin, end)\n",
    "        splice.build(input_filename, output_filename)"
   ]
  },
  {
   "cell_type": "code",
   "execution_count": null,
   "metadata": {
    "collapsed": true
   },
   "outputs": [],
   "source": []
  }
 ],
 "metadata": {
  "kernelspec": {
   "display_name": "Python 3",
   "language": "python",
   "name": "python3"
  },
  "language_info": {
   "codemirror_mode": {
    "name": "ipython",
    "version": 3
   },
   "file_extension": ".py",
   "mimetype": "text/x-python",
   "name": "python",
   "nbconvert_exporter": "python",
   "pygments_lexer": "ipython3",
   "version": "3.6.3"
  }
 },
 "nbformat": 4,
 "nbformat_minor": 2
}
